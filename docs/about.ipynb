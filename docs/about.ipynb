{
  "cells": [
    {
      "cell_type": "markdown",
      "metadata": {},
      "source": [
        "# About\n",
        "\n",
        "Author: [Quantified Energy Labs\n",
        "(QE-Labs)](https://www.linkedin.com/company/qe-labs/?originalSubdomain=sg),\n",
        "Singapore.\n",
        "\n",
        "This is an interactive map showing the paths of all the typhoons around\n",
        "Japan in the last 10 years (2014 - 2023).\n",
        "\n",
        "Source of data:\n",
        "\n",
        "-   [Japan Meteorological Agency\n",
        "    (JMA)](https://www.jma.go.jp/jma/indexe.html)\n",
        "\n",
        "-   [Regional Specialized Meteorological Center (RSMC) Tokyo Typhoon\n",
        "    Center](https://www.jma.go.jp/jma/jma-eng/jma-center/rsmc-hp-pub-eg/RSMC_HP.html)\n",
        "\n",
        "-   [RSMC Best Track\n",
        "    Data](https://www.jma.go.jp/jma/jma-eng/jma-center/rsmc-hp-pub-eg/besttrack.html)"
      ],
      "id": "5147c096-dce1-4375-9fef-96ec52eb3500"
    }
  ],
  "nbformat": 4,
  "nbformat_minor": 5,
  "metadata": {
    "kernelspec": {
      "display_name": "Python 3",
      "language": "python",
      "name": "python3"
    }
  }
}