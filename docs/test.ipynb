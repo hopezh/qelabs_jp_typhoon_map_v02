{
  "cells": [
    {
      "cell_type": "markdown",
      "metadata": {},
      "source": [
        "# test code\n",
        "\n",
        "# import modules —————————————————————\n",
        "\n",
        "``` python\n",
        "import polars as pl\n",
        "print('polars version', pl.__version__)\n",
        "import plotly.express as px\n",
        "import plotly.graph_objects as go\n",
        "```\n",
        "\n",
        "    polars version 0.20.9\n",
        "\n",
        "# read solar farm csv ———————————————————-\n",
        "\n",
        "``` python\n",
        "jp_solar_farms_f_path = \"./data/jp_solar_farms/japan_solar_farms.csv\"\n",
        "\n",
        "df_jp_solar = pl.read_csv(jp_solar_farms_f_path, separator=\",\")\n",
        "df_jp_solar\n",
        "```\n",
        "\n",
        "<div><style>\n",
        ".dataframe > thead > tr,\n",
        ".dataframe > tbody > tr {\n",
        "  text-align: right;\n",
        "  white-space: pre-wrap;\n",
        "}\n",
        "</style>\n",
        "<small>shape: (2, 7)</small>\n",
        "\n",
        "| name_english     | capacity_mw | latitude  | longitude  | state     | city       | year_operation |\n",
        "|------------------|-------------|-----------|------------|-----------|------------|----------------|\n",
        "| str              | i64         | f64       | f64        | str       | str        | i64            |\n",
        "| \"Setouchi Kirei… | 235         | 34.634047 | 134.150949 | \"Okayama\" | \"Setouchi\" | 2018           |\n",
        "| \"Eurus Rokkasho… | 148         | 40.924109 | 141.355335 | \"Aomori\"  | \"Rokkasho\" | 2015           |\n",
        "\n",
        "</div>\n",
        "\n",
        "# create map using px.scatter_mapbox() —————————————–\n",
        "\n",
        "``` python\n",
        "token = open('./data/mapbox/.mapbox_token').read()\n",
        "\n",
        "fig = px.scatter_mapbox(\n",
        "    df_jp_solar,\n",
        "    lat=\"latitude\",\n",
        "    lon=\"longitude\",\n",
        "    size=\"capacity_mw\",\n",
        "    hover_name=\"name_english\",\n",
        "    # hover_data=[\"capacity_mw\", \"year_operation\"],\n",
        "    # zoom=3,\n",
        "    # height=1000,\n",
        "    # animation_frame=\"h_b_int_num_id\",\n",
        "    # animation_frame=\"year\",\n",
        "    # hover_name=['h_h_storm_name'],\n",
        ")\n",
        "\n",
        "fig.update_layout(\n",
        "    mapbox_accesstoken=token,\n",
        "    mapbox_style=\"light\",\n",
        "    # mapbox_style=\"outdoors\",\n",
        "    # mapbox_style=\"basic\",\n",
        "    # mapbox_style=\"dark\",\n",
        "\n",
        "    # mapbox_style=\"open-street-map\",\n",
        "    # mapbox_style=\"carto-darkmatter\",\n",
        "    # mapbox_style=\"carto-positron\",\n",
        "    # mapbox_zoom=4,\n",
        "    mapbox_center_lat=36.2048,\n",
        "    mapbox_center_lon=138.2529,\n",
        "    margin={\"r\":0,\"t\":0,\"l\":0,\"b\":0},\n",
        "    # showlegend=False,\n",
        "    # legend=dict(\n",
        "    #     xanchor=\"right\",\n",
        "    #     yanchor=\"top\",\n",
        "    #     x=0.07,\n",
        "    #     y=0.99,\n",
        "    # ),\n",
        ")\n",
        "\n",
        "fig.show()\n",
        "```\n",
        "\n",
        "# create map using go.scattermapbox() ——————————————\n",
        "\n",
        "``` python\n",
        "fig_solar = go.Figure(\n",
        "    go.Scattermapbox(\n",
        "        lat=df_jp_solar['latitude'],\n",
        "        lon=df_jp_solar['longitude'],\n",
        "        mode='markers',\n",
        "        marker=go.scattermapbox.Marker(\n",
        "            size=df_jp_solar['capacity_mw']/10\n",
        "        ),\n",
        "        text=df_jp_solar['name_english'],\n",
        "    )\n",
        ")\n",
        "\n",
        "fig_solar.update_layout(\n",
        "    mapbox=dict(\n",
        "        accesstoken=token,\n",
        "        center=go.layout.mapbox.Center(\n",
        "            lat=36.2048,\n",
        "            lon=138.2529\n",
        "        ),\n",
        "        zoom=3\n",
        "    )\n",
        ")\n",
        "\n",
        "# fig_solar.show()\n",
        "```\n",
        "\n",
        "# test, create an empty dataframe with a list of column names"
      ],
      "id": "3a506ea4-645c-44ab-b2aa-ce834ea0034b"
    },
    {
      "cell_type": "code",
      "execution_count": 3,
      "metadata": {},
      "outputs": [
        {
          "output_type": "display_data",
          "metadata": {},
          "data": {
            "text/html": [
              "</div>"
            ]
          }
        }
      ],
      "source": [
        "keys = ['a', 'b', 'c']\n",
        "col_names = dict.fromkeys(keys)\n",
        "df = pl.DataFrame(col_names)\n",
        "df"
      ],
      "id": "d8bdca2c"
    },
    {
      "cell_type": "markdown",
      "metadata": {},
      "source": [
        "# create a pl df from schema & data"
      ],
      "id": "6373ea13-df17-4287-8d5d-ec5208a22f9b"
    },
    {
      "cell_type": "code",
      "execution_count": 4,
      "metadata": {},
      "outputs": [
        {
          "output_type": "display_data",
          "metadata": {},
          "data": {
            "text/html": [
              "</div>"
            ]
          }
        }
      ],
      "source": [
        "df_schema = {\n",
        "    'a': pl.Int64,\n",
        "    'b': pl.String,\n",
        "    'c': pl.Float64,\n",
        "}\n",
        "\n",
        "# data = {\n",
        "#     'a': 12345,\n",
        "#     'b': 'abc',\n",
        "#     'c': 123.45\n",
        "# }\n",
        "\n",
        "data = {\n",
        "    'a': [],\n",
        "    'b': [],\n",
        "    'c': [],\n",
        "}\n",
        "\n",
        "df2 = pl.DataFrame(data, schema=df_schema)\n",
        "\n",
        "df2"
      ],
      "id": "1751b307"
    },
    {
      "cell_type": "markdown",
      "metadata": {},
      "source": [
        "# use `df.vstack` to stack 2 df"
      ],
      "id": "433daa0f-5c0a-45e4-a11f-0a0e431034d8"
    },
    {
      "cell_type": "code",
      "execution_count": 5,
      "metadata": {},
      "outputs": [
        {
          "output_type": "display_data",
          "metadata": {},
          "data": {
            "text/html": [
              "</div>"
            ]
          }
        }
      ],
      "source": [
        "dict_df3_data = {\n",
        "    'a': [6299, 54321],\n",
        "    'b': ['agb', 'bca'],\n",
        "    'c': [123.45, 43.213]\n",
        "}\n",
        "df3 = pl.DataFrame(dict_df3_data)\n",
        "\n",
        "df2 = df2.vstack(df3)\n",
        "df2"
      ],
      "id": "99a443a1"
    },
    {
      "cell_type": "markdown",
      "metadata": {},
      "source": [
        "# convert str to yyyymmddhh"
      ],
      "id": "2f867d22-2f95-465b-ab61-b66c1863f2f3"
    },
    {
      "cell_type": "code",
      "execution_count": 6,
      "metadata": {},
      "outputs": [
        {
          "output_type": "display_data",
          "metadata": {},
          "data": {
            "text/html": [
              "</div>"
            ]
          }
        }
      ],
      "source": [
        "df_date = pl.DataFrame({\n",
        "    'date_h_str': ['1987032516', '2021102309'],\n",
        "    'date_str': ['19780312', '20120103'],\n",
        "    'speed': [123, 345]\n",
        "}) \n",
        "\n",
        "df_date"
      ],
      "id": "23fe9cff"
    },
    {
      "cell_type": "code",
      "execution_count": 7,
      "metadata": {},
      "outputs": [
        {
          "output_type": "display_data",
          "metadata": {},
          "data": {
            "text/html": [
              "</div>"
            ]
          }
        }
      ],
      "source": [
        "df_date = df_date.with_columns(\n",
        "    pl.col('date_str')\n",
        "      .str.strptime(pl.Date, format='%Y%m%d')\n",
        "      .alias('date')\n",
        ")\n",
        "\n",
        "# df_date = df_date.with_columns(\n",
        "#     pl.col('date_h_str')\n",
        "#       .str.strptime(pl.Datetime, format='%Y%m%d%h%m%s')\n",
        "#       .alias('date_hour')\n",
        "# )\n",
        "\n",
        "df_date"
      ],
      "id": "24df0f49"
    },
    {
      "cell_type": "markdown",
      "metadata": {},
      "source": [
        "# create test df —————————————————————\n",
        "\n",
        "``` python\n",
        "df_test = pl.DataFrame(\n",
        "    {\n",
        "        'd_lat': [35.0,   43.0,   53.0,   214.0,  215.0,  209.0],\n",
        "        'd_lon': [1596.0, 1591.0, 1587.0, 1095.0, 1098.0, 1097.0],\n",
        "        'd_idx': [2301,   2301,   2301,   2316,   2316,   2316]\n",
        "    }\n",
        ")\n",
        "print(df_test)\n",
        "```\n",
        "\n",
        "``` python\n",
        "df_test = df_test.with_columns(\n",
        "    pl.col(\"d_lat\").mul(0.1), \n",
        "    pl.col(\"d_lon\").mul(0.1)\n",
        ")\n",
        "print(df_test)\n",
        "```"
      ],
      "id": "da2dbae4-9f68-44de-b55a-59e0e0d470bb"
    }
  ],
  "nbformat": 4,
  "nbformat_minor": 5,
  "metadata": {
    "kernelspec": {
      "name": "python3",
      "display_name": "Python 3 (ipykernel)",
      "language": "python"
    }
  }
}