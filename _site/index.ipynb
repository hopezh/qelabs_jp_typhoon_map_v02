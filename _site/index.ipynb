{
  "cells": [
    {
      "cell_type": "markdown",
      "metadata": {},
      "source": [
        "# Qelabs_jp_typhoon_map_v02\n",
        "\n",
        "-   Tidy up Japan’s typhoon data from 1951 to 2023.\n",
        "-   Create interactive map."
      ],
      "id": "c7c08e68-332d-4187-a78a-a8073a23baea"
    }
  ],
  "nbformat": 4,
  "nbformat_minor": 5,
  "metadata": {
    "kernelspec": {
      "display_name": "Python 3",
      "language": "python",
      "name": "python3"
    }
  }
}