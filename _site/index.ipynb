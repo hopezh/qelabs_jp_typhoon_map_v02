{
  "cells": [
    {
      "cell_type": "markdown",
      "metadata": {},
      "source": [
        "# Qelabs_jp_typhoon_map_v02\n",
        "\n",
        "-   Tidy up Japan’s typhoon data from 1951 to 2023.\n",
        "-   Create interactive map."
      ],
      "id": "7f0eee40-77be-43b5-afd4-e8145dcbc53d"
    }
  ],
  "nbformat": 4,
  "nbformat_minor": 5,
  "metadata": {
    "kernelspec": {
      "display_name": "Python 3",
      "language": "python",
      "name": "python3"
    }
  }
}