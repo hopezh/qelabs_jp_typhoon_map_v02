{
  "cells": [
    {
      "cell_type": "markdown",
      "metadata": {},
      "source": [
        "# test code\n",
        "\n",
        "# import modules"
      ],
      "id": "a0f75c42-db08-4d38-acca-70e9e141cba7"
    },
    {
      "cell_type": "code",
      "execution_count": 1,
      "metadata": {},
      "outputs": [
        {
          "output_type": "stream",
          "name": "stdout",
          "text": [
            "polars version 0.20.9"
          ]
        }
      ],
      "source": [
        "import polars as pl\n",
        "print('polars version', pl.__version__)"
      ],
      "id": "bd3b0094"
    },
    {
      "cell_type": "markdown",
      "metadata": {},
      "source": [
        "# test, create an empty dataframe with a list of column names"
      ],
      "id": "cd6805b1-63fc-4cc0-be16-01d77ce0a24c"
    },
    {
      "cell_type": "code",
      "execution_count": 2,
      "metadata": {},
      "outputs": [
        {
          "output_type": "display_data",
          "metadata": {},
          "data": {
            "text/html": [
              "</div>"
            ]
          }
        }
      ],
      "source": [
        "keys = ['a', 'b', 'c']\n",
        "col_names = dict.fromkeys(keys)\n",
        "df = pl.DataFrame(col_names)\n",
        "df"
      ],
      "id": "0244210b"
    },
    {
      "cell_type": "markdown",
      "metadata": {},
      "source": [
        "# create a pl df from schema & data"
      ],
      "id": "c4c5215c-ea4b-4322-acd1-3532fff2f457"
    },
    {
      "cell_type": "code",
      "execution_count": 3,
      "metadata": {},
      "outputs": [
        {
          "output_type": "display_data",
          "metadata": {},
          "data": {
            "text/html": [
              "</div>"
            ]
          }
        }
      ],
      "source": [
        "df_schema = {\n",
        "    'a': pl.Int64,\n",
        "    'b': pl.String,\n",
        "    'c': pl.Float64,\n",
        "}\n",
        "\n",
        "# data = {\n",
        "#     'a': 12345,\n",
        "#     'b': 'abc',\n",
        "#     'c': 123.45\n",
        "# }\n",
        "\n",
        "data = {\n",
        "    'a': [],\n",
        "    'b': [],\n",
        "    'c': [],\n",
        "}\n",
        "\n",
        "df2 = pl.DataFrame(data, schema=df_schema)\n",
        "\n",
        "df2"
      ],
      "id": "cd3d06a3"
    },
    {
      "cell_type": "markdown",
      "metadata": {},
      "source": [
        "# use `df.vstack` to stack 2 df"
      ],
      "id": "88f9f351-c983-4a00-abe3-865b0fdfe7fe"
    },
    {
      "cell_type": "code",
      "execution_count": 4,
      "metadata": {},
      "outputs": [
        {
          "output_type": "display_data",
          "metadata": {},
          "data": {
            "text/html": [
              "</div>"
            ]
          }
        }
      ],
      "source": [
        "dict_df3_data = {\n",
        "    'a': [6299, 54321],\n",
        "    'b': ['agb', 'bca'],\n",
        "    'c': [123.45, 43.213]\n",
        "}\n",
        "df3 = pl.DataFrame(dict_df3_data)\n",
        "\n",
        "df2 = df2.vstack(df3)\n",
        "df2"
      ],
      "id": "2401fb18"
    },
    {
      "cell_type": "markdown",
      "metadata": {},
      "source": [
        "# convert str to yyyymmddhh"
      ],
      "id": "d1695a38-d12b-4172-9990-a50336993893"
    },
    {
      "cell_type": "code",
      "execution_count": 5,
      "metadata": {},
      "outputs": [
        {
          "output_type": "display_data",
          "metadata": {},
          "data": {
            "text/html": [
              "</div>"
            ]
          }
        }
      ],
      "source": [
        "df_date = pl.DataFrame({\n",
        "    'date_h_str': ['1987032516', '2021102309'],\n",
        "    'date_str': ['19780312', '20120103'],\n",
        "    'speed': [123, 345]\n",
        "}) \n",
        "\n",
        "df_date"
      ],
      "id": "f598b6bd"
    },
    {
      "cell_type": "code",
      "execution_count": 6,
      "metadata": {},
      "outputs": [
        {
          "output_type": "display_data",
          "metadata": {},
          "data": {
            "text/html": [
              "</div>"
            ]
          }
        }
      ],
      "source": [
        "df_date = df_date.with_columns(\n",
        "    pl.col('date_str')\n",
        "      .str.strptime(pl.Date, format='%Y%m%d')\n",
        "      .alias('date')\n",
        ")\n",
        "\n",
        "# df_date = df_date.with_columns(\n",
        "#     pl.col('date_h_str')\n",
        "#       .str.strptime(pl.Datetime, format='%Y%m%d%h%m%s')\n",
        "#       .alias('date_hour')\n",
        "# )\n",
        "\n",
        "df_date"
      ],
      "id": "4778ab22"
    },
    {
      "cell_type": "markdown",
      "metadata": {},
      "source": [
        "# create test df —————————————————————\n",
        "\n",
        "``` python\n",
        "df_test = pl.DataFrame(\n",
        "    {\n",
        "        'd_lat': [35.0,   43.0,   53.0,   214.0,  215.0,  209.0],\n",
        "        'd_lon': [1596.0, 1591.0, 1587.0, 1095.0, 1098.0, 1097.0],\n",
        "        'd_idx': [2301,   2301,   2301,   2316,   2316,   2316]\n",
        "    }\n",
        ")\n",
        "print(df_test)\n",
        "```\n",
        "\n",
        "``` python\n",
        "df_test = df_test.with_columns(\n",
        "    pl.col(\"d_lat\").mul(0.1), \n",
        "    pl.col(\"d_lon\").mul(0.1)\n",
        ")\n",
        "print(df_test)\n",
        "```"
      ],
      "id": "494004b7-620c-4220-8b8d-5fc586497e2c"
    }
  ],
  "nbformat": 4,
  "nbformat_minor": 5,
  "metadata": {
    "kernelspec": {
      "name": "python3",
      "display_name": "Python 3 (ipykernel)",
      "language": "python"
    },
    "language_info": {
      "name": "python",
      "codemirror_mode": {
        "name": "ipython",
        "version": "3"
      },
      "file_extension": ".py",
      "mimetype": "text/x-python",
      "nbconvert_exporter": "python",
      "pygments_lexer": "ipython3",
      "version": "3.11.7"
    }
  }
}